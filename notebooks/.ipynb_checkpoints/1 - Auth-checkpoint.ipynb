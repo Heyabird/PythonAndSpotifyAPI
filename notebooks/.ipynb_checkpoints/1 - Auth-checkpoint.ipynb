{
 "cells": [
  {
   "cell_type": "code",
   "execution_count": 1,
   "metadata": {
    "scrolled": true
   },
   "outputs": [
    {
     "name": "stdout",
     "output_type": "stream",
     "text": [
      "Requirement already satisfied: requests in /Users/heya.world/Desktop/PythonAndSpotifyAPI/venv/lib/python3.8/site-packages (2.24.0)\r\n",
      "Requirement already satisfied: chardet<4,>=3.0.2 in /Users/heya.world/Desktop/PythonAndSpotifyAPI/venv/lib/python3.8/site-packages (from requests) (3.0.4)\r\n",
      "Requirement already satisfied: certifi>=2017.4.17 in /Users/heya.world/Desktop/PythonAndSpotifyAPI/venv/lib/python3.8/site-packages (from requests) (2020.6.20)\r\n",
      "Requirement already satisfied: urllib3!=1.25.0,!=1.25.1,<1.26,>=1.21.1 in /Users/heya.world/Desktop/PythonAndSpotifyAPI/venv/lib/python3.8/site-packages (from requests) (1.25.11)\r\n",
      "Requirement already satisfied: idna<3,>=2.5 in /Users/heya.world/Desktop/PythonAndSpotifyAPI/venv/lib/python3.8/site-packages (from requests) (2.10)\r\n"
     ]
    }
   ],
   "source": [
    "!pip install requests"
   ]
  },
  {
   "cell_type": "code",
   "execution_count": 2,
   "metadata": {},
   "outputs": [],
   "source": [
    "import requests #you can use the curl command as well\n",
    "import datetime"
   ]
  },
  {
   "cell_type": "code",
   "execution_count": 3,
   "metadata": {},
   "outputs": [],
   "source": [
    "import base64"
   ]
  },
  {
   "cell_type": "code",
   "execution_count": 4,
   "metadata": {},
   "outputs": [],
   "source": [
    "client_id = 'a0b548bd1bd64de2b3277d9dc4d12923'\n",
    "client_secret = '5b9544235a6243eca69907df30149128'"
   ]
  },
  {
   "cell_type": "code",
   "execution_count": 5,
   "metadata": {},
   "outputs": [
    {
     "data": {
      "text/plain": [
       "str"
      ]
     },
     "execution_count": 5,
     "metadata": {},
     "output_type": "execute_result"
    }
   ],
   "source": [
    "client_creds = f\"{client_id}:{client_secret}\"\n",
    "type(client_creds)"
   ]
  },
  {
   "cell_type": "code",
   "execution_count": 6,
   "metadata": {},
   "outputs": [
    {
     "name": "stdout",
     "output_type": "stream",
     "text": [
      "b'YTBiNTQ4YmQxYmQ2NGRlMmIzMjc3ZDlkYzRkMTI5MjM6NWI5NTQ0MjM1YTYyNDNlY2E2OTkwN2RmMzAxNDkxMjg='\n"
     ]
    }
   ],
   "source": [
    "#convert to b64, since base64 byte string is a more secure way to pass these credentials\n",
    "client_creds_b64 = base64.b64encode(client_creds.encode())\n",
    "print(client_creds_b64)"
   ]
  },
  {
   "cell_type": "code",
   "execution_count": 7,
   "metadata": {},
   "outputs": [],
   "source": [
    "token_url = \"https://accounts.spotify.com/api/token\"\n",
    "method = \"POST\"\n",
    "token_data = {\n",
    "    \"grant_type\": \"client_credentials\"\n",
    "}\n",
    "token_headers = {\n",
    "    \"Authorization\": f\"Basic {client_creds_b64.decode()}\" # <base64 encoded client_id:client_secret> #decode the byte string to turn into string\n",
    "}"
   ]
  },
  {
   "cell_type": "code",
   "execution_count": 10,
   "metadata": {},
   "outputs": [
    {
     "name": "stdout",
     "output_type": "stream",
     "text": [
      "<Response [200]>\n",
      "{'access_token': 'BQBoh9yCv5fdaLiaMu2s_p_659wf1694BPr8JdSU-FmaYzBxnSdSWIwM6QLE70sOdYTQFOJ_AHU0eNmfInw', 'token_type': 'Bearer', 'expires_in': 3600, 'scope': ''}\n",
      "True\n"
     ]
    }
   ],
   "source": [
    "r = requests.post(token_url, data=token_data, headers=token_headers)\n",
    "print(r)\n",
    "print(r.json())\n",
    "valid_request = r.status_code in range (200,299) #status code\n",
    "print(valid_request)\n"
   ]
  },
  {
   "cell_type": "code",
   "execution_count": 11,
   "metadata": {},
   "outputs": [
    {
     "name": "stdout",
     "output_type": "stream",
     "text": [
      "2020-10-23 10:24:56.687549\n",
      "False\n"
     ]
    }
   ],
   "source": [
    "if valid_request:\n",
    "    token_response_data = r.json()\n",
    "    now = datetime.datetime.now() #gives you the exact current time\n",
    "    access_token = token_response_data['access_token']\n",
    "    expires_in = token_response_data['expires_in'] #seconds\n",
    "    expires = now + datetime.timedelta(seconds=expires_in) #gives back datetime object relative to now\n",
    "    print(expires)\n",
    "    did_expire = expires < now\n",
    "    print(did_expire)\n"
   ]
  },
  {
   "cell_type": "code",
   "execution_count": null,
   "metadata": {},
   "outputs": [],
   "source": []
  }
 ],
 "metadata": {
  "kernelspec": {
   "display_name": "Python 3",
   "language": "python",
   "name": "python3"
  },
  "language_info": {
   "codemirror_mode": {
    "name": "ipython",
    "version": 3
   },
   "file_extension": ".py",
   "mimetype": "text/x-python",
   "name": "python",
   "nbconvert_exporter": "python",
   "pygments_lexer": "ipython3",
   "version": "3.8.5"
  }
 },
 "nbformat": 4,
 "nbformat_minor": 4
}
